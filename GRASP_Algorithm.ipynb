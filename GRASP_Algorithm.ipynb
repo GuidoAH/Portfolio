{
  "nbformat": 4,
  "nbformat_minor": 0,
  "metadata": {
    "colab": {
      "provenance": [],
      "authorship_tag": "ABX9TyOEWnIOacjHm+JpXvlsDJmB",
      "include_colab_link": true
    },
    "kernelspec": {
      "name": "python3",
      "display_name": "Python 3"
    },
    "language_info": {
      "name": "python"
    }
  },
  "cells": [
    {
      "cell_type": "markdown",
      "metadata": {
        "id": "view-in-github",
        "colab_type": "text"
      },
      "source": [
        "<a href=\"https://colab.research.google.com/github/GuidoAH/Portfolio/blob/main/GRASP_Algorithm.ipynb\" target=\"_parent\"><img src=\"https://colab.research.google.com/assets/colab-badge.svg\" alt=\"Open In Colab\"/></a>"
      ]
    },
    {
      "cell_type": "markdown",
      "source": [
        "# **Algoritmos de Optimización - Actividad Final**\n",
        "#**Nombre:** Guido Alexander | **Apellido:** Heienbrok\n",
        "#Link GitHub: https://github.com/GuidoAH/Optimization-Algorithms"
      ],
      "metadata": {
        "id": "AsmG-KHw4JyH"
      }
    },
    {
      "cell_type": "markdown",
      "source": [
        "**Problema**<br>\n",
        "Se precisa coordinar el doblaje de una película. Los actores del doblaje deben coincidir en las\n",
        "tomas en las que sus personajes aparecen juntos en las diferentes tomas. Los actores de\n",
        "doblaje cobran todos la misma cantidad por cada jornada que deben desplazarse hasta el estudio de\n",
        "grabación independientemente del número de tomas que se graben. No es posible grabar más\n",
        "de 6 tomas por jornada. El objetivo es planificar las sesiones por jornada de manera que el gasto por los\n",
        "servicios de los actores de doblaje sea el menor posible. <br>\n",
        "Link a los datos: https://bit.ly/36D8IuK\n",
        "\n",
        "**Nota:** Los códigos están escritos en inglés por costumbre."
      ],
      "metadata": {
        "id": "uneXUDms5xje"
      }
    },
    {
      "cell_type": "markdown",
      "source": [
        "# INDICE - Preguntas contestadas\n",
        "1. (*)¿Cuantas posibilidades hay sin tener en cuenta las restricciones?\n",
        "\n",
        "2. ¿Cuántas posibilidades hay teniendo en cuenta todas las restricciones?\n",
        "\n",
        "3. (*) ¿Cuál es la estructura de datos que mejor se adapta al problema? Argumenta la respuesta. (Es posible que hayas elegido una al principio y veas la necesidad de cambiar, argumenta)\n",
        "\n",
        "4. (*)¿Cuál es la función objetivo?\n",
        "\n",
        "5. (*)¿Es un problema de maximización o minimización?\n",
        "\n",
        "6. Diseña un algoritmo para resolver el problema por fuerza bruta\n",
        "\n",
        "7. Calcula la complejidad del algoritmo por fuerza bruta\n",
        "\n",
        "8. (*)Diseña un algoritmo que mejore la complejidad del algoritmo por fuerza bruta. Argumenta porque crees que mejora el algoritmo por fuerza bruta\n",
        "\n",
        "9. (*)Calcula la complejidad del algoritmo\n",
        "\n",
        "10. Según el problema (y tenga sentido), diseña un juego de datos de entrada aleatorio.\n",
        "* Conclusones\n",
        "* Referencias"
      ],
      "metadata": {
        "id": "825wGLVOpxgg"
      }
    },
    {
      "cell_type": "markdown",
      "source": [
        "**1. (*) ¿Cuantas posibilidades hay sin tener en cuenta las restricciones?**\n",
        "\n",
        "Sin tener en cuenta las restricciones hay $n!$ posibilidades. Es decir, hay $30! = 2.652528598 \\times 10^{32}$ combinaciones de tomas posibles."
      ],
      "metadata": {
        "id": "ZPhobOXg6F0F"
      }
    },
    {
      "cell_type": "markdown",
      "source": [
        "**2. ¿Cuántas posibilidades hay teniendo en cuenta todas las restricciones?**\n",
        "\n",
        "Teniendo en cuenta únicamente el caso del número máximo de tomas por jornada, es decir, 6 tomas por día y por lo tanto un total de 5 jornadas/sesiones, las posibilidades de dividir 30 tomas en 5 grupos de 6 tomas son:\n",
        "$\\frac{30!}{(6!)^5} \\cdot \\frac{1}{5!} \\approx 10^{19}$ combinaciones.\n",
        "\n",
        "Si tuvieramos en cuenta que se pueden grabar menos de 6 tomas por jornada, habría que considerar un número mucho mayor de combinaciones."
      ],
      "metadata": {
        "id": "sZMNBD426OBU"
      }
    },
    {
      "cell_type": "markdown",
      "source": [
        "**3. ¿Cuál es la estructura de datos que mejor se adapta al problema? Argumenta la respuesta (Es posible que hayas elegido una al principio y veas la necesidad de cambiar, argumenta)**\n",
        "\n",
        "La estructura de datos que mejor se adapta es una lista de listas.\n",
        "La lista principal representa las sesiones/días de grabación y cada elemento de esa lista es un sublista que contiene las tomas que se graban en esa jornada/sesión en concreto.\n",
        "\n",
        "Por ejemplo:<br>\n",
        "Solución = [[día 1], [día 2],  [día 3], etc...]<br>\n",
        "\n",
        "y a su vez cada día/sesión está estructurado como:<br>\n",
        "día 1 = [toma 15, toma 3, toma 22]<br>\n",
        "día 2 = [toma 27, toma 1, toma 19]<br>\n",
        "día 3 = [toma 12, toma 14, toma 7]<br>\n",
        "etc..."
      ],
      "metadata": {
        "id": "Ut2X0nC06TLd"
      }
    },
    {
      "cell_type": "markdown",
      "source": [
        "**4. ¿Cuál es la función objetivo?**\n",
        "\n",
        "La función objetivo es el gasto dedicado a los actores de doblaje para una distribución de jornadas de grabación dada. Cada jornada incluye un máximo de 6 tomas."
      ],
      "metadata": {
        "id": "hQZpdPz66dwV"
      }
    },
    {
      "cell_type": "markdown",
      "source": [
        "**5. ¿Es un problema de maximización o minimización?**\n",
        "\n",
        "Es un problema de minimización. Se pretende minimizar el gasto dedicado a los actores de doblaje durante el rodaje de una película.\n"
      ],
      "metadata": {
        "id": "tAIC84_76t88"
      }
    },
    {
      "cell_type": "markdown",
      "source": [
        "**6. Diseña un algoritmo para resolver el problema por fuerza bruta**"
      ],
      "metadata": {
        "id": "5FZPzZ0kn-2a"
      }
    },
    {
      "cell_type": "code",
      "execution_count": null,
      "metadata": {
        "id": "rdb0ZuUE4Qr9"
      },
      "outputs": [],
      "source": [
        "# Importar librerías\n",
        "import random\n",
        "import numpy as np\n",
        "import copy\n",
        "import datetime\n",
        "from itertools import permutations"
      ]
    },
    {
      "cell_type": "code",
      "source": [
        "# Introducir datos del problema\n",
        "\n",
        "# Reparto de las tomas y actores\n",
        "data = [[1, 1, 1, 1, 1, 0, 0, 0, 0, 0],\n",
        "    [0, 0, 1, 1, 1, 0, 0, 0, 0, 0],\n",
        "    [0, 1, 0, 0, 1, 0, 1, 0, 0, 0],\n",
        "    [1, 1, 0, 0, 0, 0, 1, 1, 0, 0],\n",
        "    [0, 1, 0, 1, 0, 0, 0, 1, 0, 0],\n",
        "    [1, 1, 0, 1, 1, 0, 0, 0, 0, 0],\n",
        "    [1, 1, 0, 1, 1, 0, 0, 0, 0, 0],\n",
        "    [1, 1, 0, 0, 0, 1, 0, 0, 0, 0],\n",
        "    [1, 1, 0, 1, 0, 0, 0, 0, 0, 0],\n",
        "    [1, 1, 0, 0, 0, 1, 0, 0, 1, 0],\n",
        "    [1, 1, 1, 0, 1, 0, 0, 1, 0, 0],\n",
        "    [1, 1, 1, 1, 0, 1, 0, 0, 0, 0],\n",
        "    [1, 0, 0, 1, 1, 0, 0, 0, 0, 0],\n",
        "    [1, 0, 1, 0, 0, 1, 0, 0, 0, 0],\n",
        "    [1, 1, 0, 0, 0, 0, 1, 0, 0, 0],\n",
        "    [0, 0, 0, 1, 0, 0, 0, 0, 0, 1],\n",
        "    [1, 0, 1, 0, 0, 0, 0, 0, 0, 0],\n",
        "    [0, 0, 1, 0, 0, 1, 0, 0, 0, 0],\n",
        "    [1, 0, 1, 0, 0, 0, 0, 0, 0, 0],\n",
        "    [1, 0, 1, 1, 1, 0, 0, 0, 0, 0],\n",
        "    [0, 0, 0, 0, 0, 1, 0, 1, 0, 0],\n",
        "    [1, 1, 1, 1, 0, 0, 0, 0, 0, 0],\n",
        "    [1, 0, 1, 0, 0, 0, 0, 0, 0, 0],\n",
        "    [0, 0, 1, 0, 0, 1, 0, 0, 0, 0],\n",
        "    [1, 1, 0, 1, 0, 0, 0, 0, 0, 1],\n",
        "    [1, 0, 1, 0, 1, 0, 0, 0, 1, 0],\n",
        "    [0, 0, 0, 1, 1, 0, 0, 0, 0, 0],\n",
        "    [1, 0, 0, 1, 0, 0, 0, 0, 0, 0],\n",
        "    [1, 0, 0, 0, 1, 1, 0, 0, 0, 0],\n",
        "    [1, 0, 0, 1, 0, 0, 0, 0, 0, 0]]"
      ],
      "metadata": {
        "id": "eP4sTrBw4UDV"
      },
      "execution_count": null,
      "outputs": []
    },
    {
      "cell_type": "markdown",
      "source": [
        "# Algoritmo por fuerza bruta\n",
        "Por simplificar el algoritmo se ha calculado el algoritmo de fuerza bruta como sigue:\n",
        "\n",
        "1. Generar una lista que contenga todas las permutaciones posibles de las 30 tomas.\n",
        "2. Por simplificar, cada permutación se dividirá en 5, quedando grupos de 5 con 6 días cada una. Esto representerá 5 días/sesiones de grabación con 6 tomas en cada jornada/sesión.\n",
        "3. Para cada solución se calcula el gasto.\n",
        "4. Se elige aquella distribución de tomas que menor gasto genere.\n",
        "\n",
        "- **Desventaja:** Se contabilizarán muchas soluciones que sean iguales cambiando únicamente el orden de los días. Dado que el orden de los días no importa, únicamente las sesiones por día, habrá muchos cálculos innecesarios. De hecho, las combinaciones son tantas que el código por 'fuerza bruta' no puede ejecutarse.\n",
        "\n",
        "- **Ventaja:** El algoritmo por permutaciones es más fácil de implementar que uno de combinatoria, donde se calcule todas las posibilidades de distribuir las 30 tomas entre un mínimo de 5-30 días/sesiones. Siendo 5 el número mínimo de sesiones posibles y 30 el número máximo posible de sesiones (1 toma por día)."
      ],
      "metadata": {
        "id": "GOdMXHiX32x2"
      }
    },
    {
      "cell_type": "code",
      "source": [
        "# Definir función de coste\n",
        "# Para una solución dada busca el número de actores total que han participado en una jornada\n",
        "def calculate_cost(data, solution):\n",
        "  solution = [list(item) for item in solution]\n",
        "  data = np.array(data)\n",
        "  total_cost = 0\n",
        "  for day in solution: # Recorrer jornada a jornada para una misma solución y contar actores\n",
        "      actors = np.any(data[day], axis=0)\n",
        "      total_actors = np.sum(actors)\n",
        "      total_cost += total_actors\n",
        "  return total_cost\n",
        "\n",
        "# Generar todas las permutaciones posibles\n",
        "def generate_all_combinations(takes):\n",
        "  # Generar números del 1 al número máximo de tomas\n",
        "  numbers = list(range(takes))\n",
        "  all_permutations = list(permutations(numbers))\n",
        "  return all_permutations\n",
        "\n",
        "# Dividimos la permutación obtenida en 5 jornadas de 6 tomas\n",
        "def split_list_into_sublists(lst, num_sublists):\n",
        "    avg = len(lst) // num_sublists\n",
        "    remainder = len(lst) % num_sublists\n",
        "    sublists = []\n",
        "    start = 0\n",
        "    for i in range(num_sublists):\n",
        "        end = start + avg + (1 if i < remainder else 0)\n",
        "        sublists.append(lst[start:end])\n",
        "        start = end\n",
        "    return sublists\n",
        "\n",
        "# Aplicar la división por jornadas a todas las permutaciones\n",
        "def generate_all_solutions(lst, num_sublists):\n",
        "  all_solutions = []\n",
        "  for item in lst:\n",
        "    all_solutions.append(split_list_into_sublists(item, num_sublists))\n",
        "  return all_solutions\n",
        "\n",
        "# Recorrer todas las soluciones y elegir la de menor coste.\n",
        "def best_combination(all_solutions):\n",
        "  best_cost = float('inf')\n",
        "  best_schedule = []\n",
        "  for solution in all_solutions:\n",
        "    cost = calculate_cost(data, solution)\n",
        "    if cost < best_cost:\n",
        "      best_cost = cost\n",
        "      best_schedule = solution\n",
        "  return best_schedule, best_cost\n",
        "\n",
        "# Definir algoritmo principal de fuerza bruta\n",
        "def brute_force(data, number_of_takes, sublists):\n",
        " all_permutations = generate_all_combinations(number_of_takes)\n",
        " all_solutions =  generate_all_solutions(all_permutations, sublists)\n",
        " best_schedule, best_cost = best_combination(all_solutions)\n",
        " return (\"La mejor solución es: \", best_schedule, \"El coste es: \", best_cost)\n",
        "\n",
        "# Definir parámetros y ejecutar algoritmo de fuerza bruta\n",
        "number_of_takes = 30\n",
        "number_of_takes_per_day = 6\n",
        "min_number_of_days = number_of_takes/number_of_takes_per_day\n",
        "brute_force(data, number_of_takes, min_number_of_days)"
      ],
      "metadata": {
        "id": "AnKXXMOI32W9"
      },
      "execution_count": null,
      "outputs": []
    },
    {
      "cell_type": "markdown",
      "source": [
        "**7. Calcula la complejidad del algoritmo por fuerza bruta**\n",
        "\n",
        "Debido a las permutaciones (todas las combinaciones posibles de tomas), el algoritmo de tiene una complejidad de $O(n!)$."
      ],
      "metadata": {
        "id": "0Ej8dwMCtCZS"
      }
    },
    {
      "cell_type": "markdown",
      "source": [
        "**8. (*)Diseña un algoritmo que mejore la complejidad del algoritmo por fuerza bruta.\n",
        "Argumenta porque crees que mejora el algoritmo por fuerza bruta.**\n",
        "\n",
        "A continuación se elabora una algoritmo **GRASP** para encontrar las mejores soluciones. El algoritmo esta construido como sigue:\n",
        "\n",
        "1. Se genera una lista de tomas posibles\n",
        "2. A continuación se elige una toma al azar (**R**andom).\n",
        "3. Para la toma elegida en el paso 2 se crea una lista de actores que participan en la toma.\n",
        "4. Para la lista de actores del paso 3 se calculan todas las todas las tomas que los actores tengan en común. Se elige aquella toma que más actores en común como siguiente toma. Aquí es donde entra en juego la voracidad del algoritmo (**G**reedy), dado que se busca hacer coincidir en un misma jornada/sesión al máximo número de actores con el máximo número de tomas en común.\n",
        "5. Se repiten los pasos 3-5.\n",
        "6. Una vez encontrada una solución, se realiza una búsqueda local intercambiando las tomas entre las jornadas/sesiones programadas para una solución dada (**A**daptative).\n",
        "7. Se crea un bucle **multiarranque** para explorar un espacio de soluciones.\n",
        "8. Para las soluciones del paso 7 se calcula el gasto y se elige aquella distribución de tomas por jornada/sesión que menor gasto dedicado a los actores de doblaje conlleve.\n",
        "\n",
        "El algoritmo GRASP mejora el algoritmo de fuerza bruta porque tiene una complejidad menor que el algoritmo de fuerza bruta como se comprobará en la pregunta $9$."
      ],
      "metadata": {
        "id": "hi2gjRckoIql"
      }
    },
    {
      "cell_type": "markdown",
      "source": [
        "# Algoritmo GRASP"
      ],
      "metadata": {
        "id": "LCAmGe-koOyR"
      }
    },
    {
      "cell_type": "markdown",
      "source": [
        "**Funciones auxiliares**"
      ],
      "metadata": {
        "id": "teQMDSse0Er7"
      }
    },
    {
      "cell_type": "code",
      "source": [
        "# Crear lista de tomas disponibles\n",
        "def create_available_takes(data):\n",
        "  return list(range(len(data)))\n",
        "\n",
        "# Elegir toma al azar\n",
        "def choose_random_take(available_takes):\n",
        "  return random.choice(available_takes)\n",
        "\n",
        "# Eliminar toma de las tomas elegidas\n",
        "def remove_chosen_take(available_takes, chosen_take):\n",
        "  return available_takes.remove(chosen_take)\n",
        "\n",
        "# Crear lista de actores que participan en la toma\n",
        "def create_actor_list(data, chosen_take, actor_list=None):\n",
        "  # Si la lista está vacía\n",
        "  if actor_list == None:\n",
        "    actor_list = []\n",
        "    for actor_index, has_participated in enumerate(data[chosen_take]):\n",
        "        if has_participated == 1:\n",
        "            actor_list.append(actor_index)\n",
        "  else:\n",
        "    # Añadir actores a lista ya existente\n",
        "    for actor_index, has_participated in enumerate(data[chosen_take]):\n",
        "        if has_participated == 1:\n",
        "            actor_list.append(actor_index)\n",
        "            actor_list = list(set(actor_list))\n",
        "  return actor_list\n",
        "\n",
        "# Crear lista de actores que participan en la toma elegida\n",
        "def next_best_take(data, available_takes, actor_list):\n",
        "  best_take = None\n",
        "  most_common_actors = 0\n",
        "\n",
        "  for take in available_takes: # Buscar actores con más tomas en común para elegir siguiente toma\n",
        "      common_actors = sum(1 for actor_index in actor_list if data[take][actor_index] == 1)\n",
        "      if common_actors > most_common_actors:\n",
        "          most_common_actors = common_actors\n",
        "          best_take = take\n",
        "\n",
        "  return best_take\n",
        "\n",
        "def calculate_cost(data, solution):\n",
        "  data = np.array(data)\n",
        "  total_cost = 0\n",
        "  for day in solution: # Calcular cuantos actores en total participan en una jornada de grabación\n",
        "      actors = np.any(data[day], axis=0)\n",
        "      total_actors = np.sum(actors)\n",
        "      total_cost += total_actors\n",
        "  return total_cost\n",
        "\n",
        "# Definir intercambios para búsqueda local\n",
        "def swap_takes_between_days(solution, data):\n",
        "  best_cost = calculate_cost(data, solution)\n",
        "  best_solution = solution.copy()\n",
        "\n",
        "  for day1_index, day1 in enumerate(solution):\n",
        "      for day2_index, day2 in enumerate(solution):\n",
        "          if day1_index != day2_index:\n",
        "              for take1_index, take1 in enumerate(day1):\n",
        "                  for take2_index, take2 in enumerate(day2):\n",
        "                      # Intentar intercambiar las tomas entre jornadas diferentes\n",
        "                      solution_copy = copy.deepcopy(solution)\n",
        "                      solution_copy[day1_index][take1_index] = take2\n",
        "                      solution_copy[day2_index][take2_index] = take1\n",
        "\n",
        "                      new_cost = calculate_cost(data, solution_copy)\n",
        "\n",
        "                      if new_cost < best_cost:\n",
        "                          best_cost = new_cost\n",
        "                          best_solution = solution_copy\n",
        "\n",
        "  solution.clear()\n",
        "  solution.extend(best_solution)\n",
        "\n",
        "  return solution\n",
        "\n",
        "# Definir búsqueda local\n",
        "def local_search(solution, data, num_takes):\n",
        "  max_iterations = (10/3)*num_takes\n",
        "  current_iteration = 0\n",
        "  while current_iteration < max_iterations:\n",
        "      swap_takes_between_days(solution, data)\n",
        "      current_iteration += 1\n",
        "\n",
        "  return solution  # Devolvemos la programación de doblaje optimizada\n",
        "\n",
        "\n",
        "def represent_solution(solution, cost):\n",
        "  schedule = solution\n",
        "  cost = cost\n",
        "\n",
        "  for i in range(len(schedule)):\n",
        "    print(f\"Reparto de tomas día {i+1}: \", schedule[i])\n",
        "\n",
        "  print(\"El coste total es de: \", cost)"
      ],
      "metadata": {
        "id": "7HZlqXXV4Y1M"
      },
      "execution_count": null,
      "outputs": []
    },
    {
      "cell_type": "markdown",
      "source": [
        "**Algoritmo principal**"
      ],
      "metadata": {
        "id": "SwrrXjs_0MBo"
      }
    },
    {
      "cell_type": "code",
      "source": [
        "def schedule_sessions(data):\n",
        "  available_takes = create_available_takes(data)\n",
        "  solution = []\n",
        "  num_takes = len(data)\n",
        "\n",
        "  while available_takes:\n",
        "    # Eligir una toma al azar.\n",
        "    chosen_take = choose_random_take(available_takes)\n",
        "\n",
        "    # Eliminar la toma elegida de la lista de tomas disponibles.\n",
        "    remove_chosen_take(available_takes, chosen_take)\n",
        "\n",
        "    # Crear una lista de actores que participan en la toma elegida.\n",
        "    actor_list = create_actor_list(data, chosen_take)\n",
        "\n",
        "    # Eligir aquella toma de la lista de tomas disponibles con más actores en común\n",
        "    best_take = next_best_take(data, available_takes, actor_list)\n",
        "\n",
        "    # Agregar las tomas seleccionadas al programa de doblaje\n",
        "    day = [chosen_take]\n",
        "\n",
        "    # Agregar tomas hasta completar un máximo de 6 tomas por día\n",
        "    while len(day) < 6 and best_take is not None:\n",
        "        day.append(best_take)\n",
        "        remove_chosen_take(available_takes, best_take)\n",
        "\n",
        "        actor_list = create_actor_list(data, best_take, actor_list)\n",
        "        best_take = next_best_take(data, available_takes, actor_list)\n",
        "\n",
        "    # Añadir día a solución final\n",
        "    solution.append(day)\n",
        "\n",
        "    # Aplicar búsqueda local\n",
        "    solution = local_search(solution, data, num_takes)\n",
        "\n",
        "  #Calcular el coste\n",
        "  cost = calculate_cost(data, solution)\n",
        "\n",
        "  return solution"
      ],
      "metadata": {
        "id": "B2YiPwyT5Rot"
      },
      "execution_count": null,
      "outputs": []
    },
    {
      "cell_type": "markdown",
      "source": [
        "**multiarranque (multi start)**"
      ],
      "metadata": {
        "id": "q1L-olr10ITA"
      }
    },
    {
      "cell_type": "code",
      "source": [
        "# Emplear un multiarranque (multi start)\n",
        "def GRASP(data, num_iterations):\n",
        "    best_solution = None\n",
        "    best_cost = float('inf')\n",
        "\n",
        "    for _ in range(num_iterations):\n",
        "        solution = schedule_sessions(data)\n",
        "        total_cost = calculate_cost(data, solution)\n",
        "\n",
        "        if total_cost < best_cost:\n",
        "            best_cost = total_cost\n",
        "            best_solution = solution\n",
        "\n",
        "    return(represent_solution(best_solution, best_cost))"
      ],
      "metadata": {
        "id": "Gz_Vs5ZN4bUN"
      },
      "execution_count": null,
      "outputs": []
    },
    {
      "cell_type": "markdown",
      "source": [
        "**9. (*)Calcula la complejidad del algoritmo** <br>\n",
        "La complejidad del algoritmo empleado mejora solo ligeramente.\n",
        "Debido a los bucles internos de cada funcion auxiliar y la llamada de las funciones auxiliares a la función principal.<br>\n",
        "\n",
        "Sean:<br>\n",
        "$C$ $\\equiv$ complejidad temporal<br>\n",
        "n $\\equiv$ totales<br>\n",
        "m $\\equiv$ actores<br>\n",
        "d $\\equiv$ días<br>\n",
        "t $\\equiv$<br>\n",
        "\n",
        "Teniendo en cuenta la complejidad para una única iteración en el multiarranque:<br>\n",
        "El término de mayor peso en el cálculo de la complejidad es debido a la función de intercambio de tomas 'swap_takes_between_days' tiene 4 bucles anidados $ C = d^{2} \\cdot t^{2}$, que a su vez, es llamada por la búsqueda local en 'local_search'  $ C = d^{2} \\cdot t^{2} \\cdot n$. A continuación la búsqueda local es implementada en 2 bucles while dentro del algoritmo principal 'schedule_sessions'. Por consiguiente $ C = d^{2} \\cdot t^{2} \\cdot n  \\cdot n^{2}$\n",
        "\n",
        "Situándose en el caso de mayor complejidad temporal y estableciendo que:\n",
        "$n > m,d,t$\n",
        "\n",
        "Se obtiene:\n",
        "\n",
        " $ C = n^{2} \\cdot n^{2} \\cdot n  \\cdot n^{2}$\n",
        "\n",
        "\n",
        "**Complejidad $\\approx O(n^{a})$ -> Orden polinómico.** con $ a = 7 $."
      ],
      "metadata": {
        "id": "kQEECs9opjfo"
      }
    },
    {
      "cell_type": "markdown",
      "source": [
        "# Resultados"
      ],
      "metadata": {
        "id": "Dlnp4ghCHuZZ"
      }
    },
    {
      "cell_type": "markdown",
      "source": [
        "**Instancia original; 1 iteración**"
      ],
      "metadata": {
        "id": "YbW7tX6UHqes"
      }
    },
    {
      "cell_type": "code",
      "source": [
        "# Contar tiempo de ejecución\n",
        "start_time = datetime.datetime.now()\n",
        "\n",
        "# Generar solución\n",
        "iterations = 1\n",
        "GRASP(data,iterations)\n",
        "\n",
        "# Terminar de contar el tiempo de ejecución\n",
        "end_time = datetime.datetime.now()\n",
        "elapsed_time = end_time - start_time\n",
        "print(\"Tiempo de ejecución transcurrido: {}\".format(elapsed_time))"
      ],
      "metadata": {
        "colab": {
          "base_uri": "https://localhost:8080/"
        },
        "id": "Du1mTSfwBfJY",
        "outputId": "021cdd8f-f0a9-4633-9ee0-4c2e1f9c3424"
      },
      "execution_count": null,
      "outputs": [
        {
          "output_type": "stream",
          "name": "stdout",
          "text": [
            "Reparto de tomas día 1:  [20, 0, 5, 6, 10, 11]\n",
            "Reparto de tomas día 2:  [15, 21, 19, 1, 12, 24]\n",
            "Reparto de tomas día 3:  [25, 9, 7, 13, 28, 2]\n",
            "Reparto de tomas día 4:  [27, 29, 3, 4, 14, 8]\n",
            "Reparto de tomas día 5:  [17, 23, 16, 22, 18]\n",
            "Reparto de tomas día 6:  [26]\n",
            "El coste total es de:  30\n",
            "Tiempo de ejecución transcurrido: 0:00:34.100560\n"
          ]
        }
      ]
    },
    {
      "cell_type": "markdown",
      "source": [
        "**Instancia original; 10 iteraciones**"
      ],
      "metadata": {
        "id": "Td3zH7NwHwlU"
      }
    },
    {
      "cell_type": "code",
      "source": [
        "# Contar tiempo de ejecución\n",
        "start_time = datetime.datetime.now()\n",
        "\n",
        "# Generar solución\n",
        "iterations = 10\n",
        "GRASP(data,iterations)\n",
        "\n",
        "# Terminar de contar el tiempo de ejecución\n",
        "end_time = datetime.datetime.now()\n",
        "elapsed_time = end_time - start_time\n",
        "print(\"Tiempo de ejecución transcurrido: {}\".format(elapsed_time))"
      ],
      "metadata": {
        "colab": {
          "base_uri": "https://localhost:8080/"
        },
        "id": "kouDz1sf4e_m",
        "outputId": "b9641346-037a-4052-f2c1-3a4b3464f66f"
      },
      "execution_count": null,
      "outputs": [
        {
          "output_type": "stream",
          "name": "stdout",
          "text": [
            "Reparto de tomas día 1:  [28, 0, 5, 6, 7, 11]\n",
            "Reparto de tomas día 2:  [9, 10, 3, 14, 2, 25]\n",
            "Reparto de tomas día 3:  [26, 8, 21, 19, 1, 12]\n",
            "Reparto de tomas día 4:  [17, 13, 16, 18, 22, 23]\n",
            "Reparto de tomas día 5:  [24, 4, 15, 20, 27, 29]\n",
            "El coste total es de:  28\n",
            "Tiempo de ejecución transcurrido: 0:04:23.499420\n"
          ]
        }
      ]
    },
    {
      "cell_type": "markdown",
      "source": [
        "**Instancia original; 20 iteraciones**"
      ],
      "metadata": {
        "id": "eZY0wd2UH0Gc"
      }
    },
    {
      "cell_type": "code",
      "source": [
        "# Contar tiempo de ejecución\n",
        "start_time = datetime.datetime.now()\n",
        "\n",
        "# Generar solución\n",
        "iterations = 20\n",
        "GRASP(data,iterations)\n",
        "\n",
        "# Terminar de contar el tiempo de ejecución\n",
        "end_time = datetime.datetime.now()\n",
        "elapsed_time = end_time - start_time\n",
        "print(\"Tiempo de ejecución transcurrido: {}\".format(elapsed_time))"
      ],
      "metadata": {
        "colab": {
          "base_uri": "https://localhost:8080/"
        },
        "id": "yPZkj0lI5eme",
        "outputId": "97f148db-02a0-4046-e2ed-d02cc7e4bafc"
      },
      "execution_count": null,
      "outputs": [
        {
          "output_type": "stream",
          "name": "stdout",
          "text": [
            "Reparto de tomas día 1:  [25, 0, 5, 6, 9, 11]\n",
            "Reparto de tomas día 2:  [28, 7, 10, 2, 3, 14]\n",
            "Reparto de tomas día 3:  [1, 19, 12, 21, 8, 26]\n",
            "Reparto de tomas día 4:  [23, 13, 16, 17, 18, 22]\n",
            "Reparto de tomas día 5:  [24, 4, 15, 20, 27, 29]\n",
            "El coste total es de:  28\n",
            "Tiempo de ejecución transcurrido: 0:08:03.351960\n"
          ]
        }
      ]
    },
    {
      "cell_type": "markdown",
      "source": [
        "**Instancia original; 30 iteraciones**"
      ],
      "metadata": {
        "id": "UFwxqvfBH4BE"
      }
    },
    {
      "cell_type": "code",
      "source": [
        "# Contar tiempo de ejecución\n",
        "start_time = datetime.datetime.now()\n",
        "\n",
        "# Generar solución\n",
        "iterations = 30\n",
        "GRASP(data,iterations)\n",
        "\n",
        "# Terminar de contar el tiempo de ejecución\n",
        "end_time = datetime.datetime.now()\n",
        "elapsed_time = end_time - start_time\n",
        "print(\"Tiempo de ejecución transcurrido: {}\".format(elapsed_time))"
      ],
      "metadata": {
        "colab": {
          "base_uri": "https://localhost:8080/"
        },
        "id": "ULLzkx_S8EJd",
        "outputId": "b9828cff-f268-4c9b-f18f-368d1f380ab8"
      },
      "execution_count": null,
      "outputs": [
        {
          "output_type": "stream",
          "name": "stdout",
          "text": [
            "Reparto de tomas día 1:  [20, 28, 7, 9, 10, 25]\n",
            "Reparto de tomas día 2:  [0, 11, 21, 1, 6, 19]\n",
            "Reparto de tomas día 3:  [14, 2, 8, 12, 26, 5]\n",
            "Reparto de tomas día 4:  [13, 16, 17, 18, 22, 23]\n",
            "Reparto de tomas día 5:  [29, 27, 4, 15, 24, 3]\n",
            "El coste total es de:  27\n",
            "Tiempo de ejecución transcurrido: 0:13:32.298556\n"
          ]
        }
      ]
    },
    {
      "cell_type": "markdown",
      "source": [
        "**Instancia original; 40 iteraciones**"
      ],
      "metadata": {
        "id": "LR_xP9v2H5l9"
      }
    },
    {
      "cell_type": "code",
      "source": [
        "# Contar tiempo de ejecución\n",
        "start_time = datetime.datetime.now()\n",
        "\n",
        "# Generar solución\n",
        "iterations = 40\n",
        "GRASP(data,iterations)\n",
        "\n",
        "# Terminar de contar el tiempo de ejecución\n",
        "end_time = datetime.datetime.now()\n",
        "elapsed_time = end_time - start_time\n",
        "print(\"Tiempo de ejecución transcurrido: {}\".format(elapsed_time))"
      ],
      "metadata": {
        "colab": {
          "base_uri": "https://localhost:8080/"
        },
        "id": "x0biLX5XlozI",
        "outputId": "9dae309f-49f5-481a-b1e2-9b10f4f979b2"
      },
      "execution_count": null,
      "outputs": [
        {
          "output_type": "stream",
          "name": "stdout",
          "text": [
            "Reparto de tomas día 1:  [4, 0, 5, 10, 12, 19]\n",
            "Reparto de tomas día 2:  [20, 3, 7, 28, 14, 2]\n",
            "Reparto de tomas día 3:  [9, 11, 1, 25, 21, 8]\n",
            "Reparto de tomas día 4:  [13, 16, 18, 22, 17, 23]\n",
            "Reparto de tomas día 5:  [27, 24, 6, 15, 29, 26]\n",
            "El coste total es de:  27\n",
            "Tiempo de ejecución transcurrido: 0:17:58.658887\n"
          ]
        }
      ]
    },
    {
      "cell_type": "markdown",
      "source": [
        "**Instancia original; 50 iteraciones**"
      ],
      "metadata": {
        "id": "vRsjUL_xH7b7"
      }
    },
    {
      "cell_type": "code",
      "source": [
        "# Contar tiempo de ejecución\n",
        "start_time = datetime.datetime.now()\n",
        "\n",
        "# Generar solución\n",
        "iterations = 50\n",
        "GRASP(data,iterations)\n",
        "\n",
        "# Terminar de contar el tiempo de ejecución\n",
        "end_time = datetime.datetime.now()\n",
        "elapsed_time = end_time - start_time\n",
        "print(\"Tiempo de ejecución transcurrido: {}\".format(elapsed_time))"
      ],
      "metadata": {
        "colab": {
          "base_uri": "https://localhost:8080/"
        },
        "id": "hhumIP3t8coM",
        "outputId": "9bfc39ea-46a2-43cf-f352-e0986243c6bd"
      },
      "execution_count": null,
      "outputs": [
        {
          "output_type": "stream",
          "name": "stdout",
          "text": [
            "Reparto de tomas día 1:  [21, 0, 4, 6, 10, 1]\n",
            "Reparto de tomas día 2:  [11, 19, 12, 25, 8, 9]\n",
            "Reparto de tomas día 3:  [20, 3, 7, 14, 2, 28]\n",
            "Reparto de tomas día 4:  [23, 13, 16, 17, 18, 22]\n",
            "Reparto de tomas día 5:  [24, 5, 15, 27, 29, 26]\n",
            "El coste total es de:  27\n",
            "Tiempo de ejecución transcurrido: 0:22:27.466481\n"
          ]
        }
      ]
    },
    {
      "cell_type": "markdown",
      "source": [
        "**10. Según el problema (y tenga sentido), diseña un juego de datos de entrada aleatorio.**"
      ],
      "metadata": {
        "id": "jHZPZgN_pqpw"
      }
    },
    {
      "cell_type": "markdown",
      "source": [
        "**Instancia 2; 20 tomas; 10 actores; 1 iteración**"
      ],
      "metadata": {
        "id": "TPSQjMbzH9f0"
      }
    },
    {
      "cell_type": "code",
      "source": [
        "# Crear instancia 2\n",
        "# 20 tomas, 10 actores, 1 iteracion\n",
        "rows = 20\n",
        "columns = 10\n",
        "data2 = np.random.randint(2, size=(rows, columns))\n",
        "print('Datos de instancia 2: ', '\\n', data2)\n",
        "print('\\n')\n",
        "\n",
        "# Contar tiempo de ejecución\n",
        "start_time = datetime.datetime.now()\n",
        "\n",
        "# Aplicar algoritmo GRASP\n",
        "iterations = 1\n",
        "GRASP(data2,iterations)\n",
        "print('\\n')\n",
        "\n",
        "# Terminar de contar el tiempo de ejecución\n",
        "end_time = datetime.datetime.now()\n",
        "elapsed_time = end_time - start_time\n",
        "print(\"Tiempo de ejecución transcurrido: {}\".format(elapsed_time))"
      ],
      "metadata": {
        "colab": {
          "base_uri": "https://localhost:8080/"
        },
        "id": "FS4KjlXHou_d",
        "outputId": "6b6c525f-4c80-4963-e63c-f9588973fe04"
      },
      "execution_count": null,
      "outputs": [
        {
          "output_type": "stream",
          "name": "stdout",
          "text": [
            "Datos de instancia 2:  \n",
            " [[0 1 0 1 0 1 1 0 0 0]\n",
            " [1 1 0 1 1 1 1 0 0 1]\n",
            " [0 1 1 0 0 1 1 0 1 0]\n",
            " [0 0 0 1 0 0 1 0 0 1]\n",
            " [1 1 0 0 0 0 1 1 1 0]\n",
            " [1 1 0 0 0 0 0 0 1 0]\n",
            " [1 0 0 1 1 0 1 1 1 0]\n",
            " [1 1 1 1 0 1 1 1 1 1]\n",
            " [1 0 1 0 1 1 1 1 0 1]\n",
            " [1 1 1 1 1 1 0 0 0 0]\n",
            " [0 1 0 0 1 1 1 0 1 0]\n",
            " [0 1 1 0 0 0 0 0 1 0]\n",
            " [1 0 0 1 1 0 1 0 1 1]\n",
            " [1 0 1 1 1 1 1 0 0 1]\n",
            " [0 0 1 0 1 0 1 1 1 1]\n",
            " [1 1 1 0 1 1 0 0 1 0]\n",
            " [1 0 1 1 0 1 1 1 1 0]\n",
            " [0 0 1 1 1 0 1 1 0 0]\n",
            " [0 0 0 1 1 0 1 1 1 1]\n",
            " [0 1 0 1 1 0 1 0 0 0]]\n",
            "\n",
            "\n",
            "Reparto de tomas día 1:  [15, 7, 1, 8, 13, 16]\n",
            "Reparto de tomas día 2:  [10, 17, 9, 2, 6, 4]\n",
            "Reparto de tomas día 3:  [11, 5, 19, 12, 14, 18]\n",
            "Reparto de tomas día 4:  [0, 3]\n",
            "El coste total es de:  33\n",
            "\n",
            "\n",
            "Tiempo de ejecución transcurrido: 0:00:03.506522\n"
          ]
        }
      ]
    },
    {
      "cell_type": "markdown",
      "source": [
        "**Instancia 3; 30 tomas; 10 actores; 1 iteración**"
      ],
      "metadata": {
        "id": "kh9Zcy91IJOs"
      }
    },
    {
      "cell_type": "code",
      "source": [
        "# Crear instancia 3\n",
        "# 30 tomas, 10 actores, 1 iteracion\n",
        "rows = 30\n",
        "columns = 10\n",
        "data3 = np.random.randint(2, size=(rows, columns))\n",
        "print('Datos de instancia 3: ', '\\n', data3)\n",
        "print('\\n')\n",
        "\n",
        "# Contar tiempo de ejecución\n",
        "start_time = datetime.datetime.now()\n",
        "\n",
        "# Aplicar algoritmo GRASP\n",
        "iterations = 1\n",
        "GRASP(data3,iterations)\n",
        "print('\\n')\n",
        "\n",
        "# Terminar de contar el tiempo de ejecución\n",
        "end_time = datetime.datetime.now()\n",
        "elapsed_time = end_time - start_time\n",
        "print(\"Tiempo de ejecución transcurrido: {}\".format(elapsed_time))"
      ],
      "metadata": {
        "id": "WkatoDJLpp_5",
        "colab": {
          "base_uri": "https://localhost:8080/"
        },
        "outputId": "bea2b9fc-d554-4209-9a02-10d33873c2e0"
      },
      "execution_count": null,
      "outputs": [
        {
          "output_type": "stream",
          "name": "stdout",
          "text": [
            "Datos de instancia 3:  \n",
            " [[1 0 0 0 0 0 1 0 0 0]\n",
            " [1 0 1 0 0 0 1 0 0 0]\n",
            " [1 1 1 0 1 1 0 0 1 1]\n",
            " [1 1 0 0 0 0 1 0 0 1]\n",
            " [0 1 1 1 0 1 1 0 1 1]\n",
            " [1 0 1 0 0 0 0 0 1 1]\n",
            " [0 1 1 1 1 0 0 0 0 0]\n",
            " [0 1 1 0 1 0 0 1 1 0]\n",
            " [0 1 0 0 1 0 0 0 1 0]\n",
            " [0 1 1 1 1 1 0 1 1 0]\n",
            " [0 0 0 0 1 0 0 1 0 1]\n",
            " [0 0 0 0 1 0 0 0 1 0]\n",
            " [0 0 1 1 1 1 0 0 1 0]\n",
            " [0 0 0 1 1 0 1 1 0 0]\n",
            " [1 0 0 0 0 1 1 0 0 0]\n",
            " [1 1 1 0 0 0 1 0 1 0]\n",
            " [1 1 0 0 1 0 0 0 0 0]\n",
            " [0 0 1 0 0 0 1 1 0 0]\n",
            " [1 0 1 0 0 1 0 1 1 0]\n",
            " [0 1 0 0 1 0 0 1 0 0]\n",
            " [1 0 0 0 0 0 1 1 0 1]\n",
            " [1 1 1 0 0 0 1 1 0 1]\n",
            " [0 1 1 1 0 1 1 1 1 0]\n",
            " [1 0 0 1 1 1 1 0 0 0]\n",
            " [1 1 0 0 1 0 0 0 1 1]\n",
            " [1 0 1 0 1 0 0 1 0 0]\n",
            " [1 0 1 0 1 0 0 1 1 0]\n",
            " [0 0 1 1 0 1 0 0 1 1]\n",
            " [0 1 0 1 0 0 1 1 0 1]\n",
            " [0 1 1 0 1 1 0 1 1 1]]\n",
            "\n",
            "\n",
            "Reparto de tomas día 1:  [27, 2, 4, 9, 22, 29]\n",
            "Reparto de tomas día 2:  [21, 3, 15, 5, 7, 24]\n",
            "Reparto de tomas día 3:  [23, 1, 14, 18, 26, 12]\n",
            "Reparto de tomas día 4:  [20, 28, 13, 6, 25, 10]\n",
            "Reparto de tomas día 5:  [11, 8, 16, 19, 17, 0]\n",
            "El coste total es de:  41\n",
            "\n",
            "\n",
            "Tiempo de ejecución transcurrido: 0:00:16.367643\n"
          ]
        }
      ]
    },
    {
      "cell_type": "markdown",
      "source": [
        "**Instancia 4; 50 tomas; 10 actores; 1 iteración**"
      ],
      "metadata": {
        "id": "LTDkq4bAIPC8"
      }
    },
    {
      "cell_type": "code",
      "source": [
        "# Crear instancia 4\n",
        "# 50 tomas, 10 actores, 1 iteracion\n",
        "rows = 50\n",
        "columns = 10\n",
        "data4 = np.random.randint(2, size=(rows, columns))\n",
        "print('Datos de instancia 4: ', '\\n', data4)\n",
        "print('\\n')\n",
        "\n",
        "# Contar tiempo de ejecución\n",
        "start_time = datetime.datetime.now()\n",
        "\n",
        "# Aplicar algoritmo GRASP\n",
        "iterations = 1\n",
        "GRASP(data4,iterations)\n",
        "print('\\n')\n",
        "\n",
        "# Terminar de contar el tiempo de ejecución\n",
        "end_time = datetime.datetime.now()\n",
        "elapsed_time = end_time - start_time\n",
        "print(\"Tiempo de ejecución transcurrido: {}\".format(elapsed_time))"
      ],
      "metadata": {
        "colab": {
          "base_uri": "https://localhost:8080/"
        },
        "id": "HorIs12aoZz-",
        "outputId": "71ff5a35-cef0-4b1e-c369-299ff2b4e976"
      },
      "execution_count": null,
      "outputs": [
        {
          "output_type": "stream",
          "name": "stdout",
          "text": [
            "Datos de instancia 4:  \n",
            " [[0 0 0 0 0 1 1 1 1 0]\n",
            " [0 0 1 1 1 0 0 1 1 1]\n",
            " [0 0 0 1 1 0 1 1 1 1]\n",
            " [1 0 1 1 1 0 1 1 1 1]\n",
            " [1 1 0 1 0 1 0 1 0 1]\n",
            " [0 0 0 1 0 1 1 0 0 0]\n",
            " [1 0 1 0 1 0 1 0 0 0]\n",
            " [1 0 0 1 0 1 1 0 1 1]\n",
            " [0 1 1 1 1 0 1 0 1 0]\n",
            " [0 0 1 1 1 0 0 1 0 1]\n",
            " [1 0 0 1 0 1 1 1 0 0]\n",
            " [0 1 1 1 0 0 1 0 1 0]\n",
            " [0 1 1 0 1 0 0 1 1 1]\n",
            " [1 1 1 0 0 1 1 0 1 1]\n",
            " [0 0 0 1 0 1 1 1 0 1]\n",
            " [0 0 0 1 1 0 1 1 0 1]\n",
            " [1 0 1 1 0 0 1 1 1 0]\n",
            " [1 0 1 0 1 1 0 1 1 0]\n",
            " [0 0 0 0 1 0 1 0 0 0]\n",
            " [1 1 1 1 0 1 1 0 1 0]\n",
            " [1 1 1 1 1 1 0 1 1 0]\n",
            " [1 0 0 1 0 0 0 0 1 0]\n",
            " [0 0 1 1 1 1 1 1 1 0]\n",
            " [0 1 0 0 1 1 1 0 0 0]\n",
            " [0 0 0 1 0 1 1 1 1 0]\n",
            " [0 0 0 0 0 0 0 1 1 1]\n",
            " [0 1 0 0 0 1 0 0 0 1]\n",
            " [0 1 0 1 0 1 0 1 1 1]\n",
            " [1 1 1 0 1 1 0 1 1 1]\n",
            " [1 1 0 1 1 0 1 1 1 0]\n",
            " [1 1 1 0 0 1 1 1 0 0]\n",
            " [1 1 0 1 1 0 0 0 0 0]\n",
            " [1 1 0 0 1 0 0 0 0 1]\n",
            " [1 1 1 0 1 1 0 1 0 0]\n",
            " [1 0 0 0 1 0 0 1 0 0]\n",
            " [0 1 0 0 0 1 0 1 0 0]\n",
            " [1 0 0 1 0 0 1 1 0 1]\n",
            " [0 1 0 1 0 1 0 1 0 0]\n",
            " [1 1 1 0 1 0 1 0 1 1]\n",
            " [0 0 0 0 0 1 1 0 1 0]\n",
            " [1 0 1 0 0 0 0 0 0 1]\n",
            " [1 1 0 0 0 1 1 1 0 1]\n",
            " [1 0 0 1 0 1 0 0 1 0]\n",
            " [1 1 0 0 0 0 0 0 1 1]\n",
            " [1 0 0 1 0 0 1 1 0 1]\n",
            " [0 0 1 0 0 1 0 0 0 1]\n",
            " [1 1 1 1 1 0 0 0 0 1]\n",
            " [1 0 1 0 0 1 0 1 0 0]\n",
            " [1 1 0 0 1 1 0 0 1 0]\n",
            " [1 1 0 1 1 0 0 0 1 1]]\n",
            "\n",
            "\n",
            "Reparto de tomas día 1:  [47, 17, 20, 28, 3, 22]\n",
            "Reparto de tomas día 2:  [6, 38, 8, 19, 11, 13]\n",
            "Reparto de tomas día 3:  [16, 29, 1, 2, 12, 46]\n",
            "Reparto de tomas día 4:  [26, 4, 41, 14, 27, 24]\n",
            "Reparto de tomas día 5:  [34, 33, 30, 23, 48, 0]\n",
            "Reparto de tomas día 6:  [35, 37, 5, 18, 9, 15]\n",
            "Reparto de tomas día 7:  [42, 21, 49, 31, 32, 43]\n",
            "Reparto de tomas día 8:  [39, 7, 25, 36, 44, 10]\n",
            "Reparto de tomas día 9:  [45, 40]\n",
            "El coste total es de:  70\n",
            "\n",
            "\n",
            "Tiempo de ejecución transcurrido: 0:03:58.293461\n"
          ]
        }
      ]
    },
    {
      "cell_type": "markdown",
      "source": [
        "# Conclusiones\n",
        "Algoritmo GRASP:<br>\n",
        "Iteraciones = 1;  Tomas n = 30 -> Coste 30 -> Tiempo = 37s <br>\n",
        "Iteraciones = 10; Tomas n = 30 -> Coste 28 -> Tiempo = 4min 23s <br>\n",
        "Iteraciones = 20; Tomas n = 30 -> Coste 28 -> Tiempo = 08min 03s <br>\n",
        "Iteraciones = 30; Tomas n = 30 -> Coste 27 -> Tiempo = 13min 32s <br>\n",
        "Iteraciones = 40; Tomas n = 30 -> Coste 27 -> Tiempo = 17min 58s <br>\n",
        "Iteraciones = 50; Tomas n = 30 -> Coste 27 -> Tiempo = 22min 27s <br>\n",
        "\n",
        "El algoritmo GRASP se  estanca a partir de las 30 iteraciones. El algoritmo encuentra el valor 27 como el coste más bajo.\n",
        "El tiempo promedio de ejecución crece lineal al aumentar el número de iteraciones $i$ y mantener fijo el número de tomas $n$.\n",
        "\n",
        "Sin embargo al aumentar el número $n$ de tomas, el tiempo promedio de ejecución (para 5 ejecuciones) crece polinómicamente para un número fijo de iteraciones $i$:\n",
        "\n",
        "Iteraciones = 1; Tomas n = 20 -> Tiempo = 5s <br>\n",
        "Iteraciones = 1;Tomas n = 30 -> Tiempo = 14s <br>\n",
        "Iteraciones = 1; Tomas n = 50 -> Tiempo = 3m 27s"
      ],
      "metadata": {
        "id": "O26ba7XCM67Q"
      }
    },
    {
      "cell_type": "markdown",
      "source": [
        ".<br>\n",
        ".\n",
        "\n",
        "\n",
        "\n",
        "# Referencias\n",
        "[1] - Apuntes de clase<br>\n",
        "[2] - https://blog.myrank.co.in/permutations-and-combinations-division-of-objects-into-groups/ <br>\n",
        "[3] - https://math.stackexchange.com/questions/2450837/how-many-combinations-of-groups-are-there-possible-in-a-set-of-50-students-with"
      ],
      "metadata": {
        "id": "7sdFlDRMM-iv"
      }
    }
  ]
}